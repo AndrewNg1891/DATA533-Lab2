from realestate.familyhome import areatype
from realestate.familyhome import attributes  ##Test1
from realestate.familyhome import highlights
from realestate.apartment import Feature
from realestate.apartment import Location
from realestate.apartment import Condition


#This is for apartment (Sub-package 1)

apartment_type = Feature.ApartmentType('1BHK')
apartment_location = Location.Location('USA')
apartment_condition = Condition.Condition('0-3')

apartment_details = [apartment_type, apartment_location, apartment_condition]
for apartment_detail in apartment_details:
    apartment_detail.apartment_display()


#This is for apartment (Sub-package 1)

print("Here you can give your requirements for the house you want to buy and view its characteristics.")
print("\n")
print(" -- Enter the number of family members who will live in the house:")
print("    You can enter from the following options: 1, 2, or 3 or more.")
fm = input()
print("\n")
print(" -- Enter your budget criteria:")
print("    You can enter from the following options: low, medium, or high.")
b = input()
print("\n")
print(" -- Enter your number of floors you wish to have in your house:")
print("    You can enter from the following options: 1, 2, or 3.")
f = input()

obj = areatype.AreaType(fm, b, f)
obj.Characteristics_display()
print("\n")
print("\n")


print("Now, if you want to know more about house facilities again enter the requirements as before: ")
print("\n")
print(" -- Enter the number of family members who will live in the house:")
print("    You can enter from the following options: 1, 2, or 3 or more.")
fm = input()
print("\n")
print(" -- Enter your budget criteria:")
print("    You can enter from the following options: low, medium, or high.")
b = input()
print("\n")
print(" -- Enter your number of floors you wish to have in your house:")
print("    You can enter from the following options: 1, 2, or 3.")
f = input()


obj1 = highlights.Highlights(fm, b, f)
obj1.Characteristics_display()
