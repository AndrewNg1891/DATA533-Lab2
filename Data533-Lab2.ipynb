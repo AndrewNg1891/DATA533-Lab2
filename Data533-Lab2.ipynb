{
 "cells": [
  {
   "cell_type": "markdown",
   "id": "b2452f47-dc87-4917-860b-c114296f5a11",
   "metadata": {},
   "source": [
    "# DATA533 Collaborative Software Development  \n",
    "## Lab Assignment - 2  \n",
    "---\n",
    "## Team Members:\n",
    "+ Navdeep Singh Saini [84280635]\n",
    "+ Mehul Bhargava [35211721]\n",
    "---\n",
    "\n",
    "### *Package topic selection:*\n"
   ]
  },
  {
   "cell_type": "markdown",
   "id": "317cf7bc-960d-44a9-8638-d22b2f4db707",
   "metadata": {},
   "source": [
    "---"
   ]
  },
  {
   "cell_type": "markdown",
   "id": "0377d51d-31c4-47c1-9d06-012fcdaf6d78",
   "metadata": {},
   "source": [
    "A package that helps to find various properties of two types of real-estate properties (Apartments and Family Homes) and display all the relevant information.  \n",
    "\n",
    "**Package: RealEstate**  \n",
    "\n",
    "**Sub-package 1: Apartment: Displays various properties for apartments.**\n",
    "+ **Features**\n",
    "    + class 1 (parent): features\n",
    "       + apartment_price\n",
    "       + apartment_area\n",
    "       + apartment_display\n",
    "    + class 2 (child): apartment_type  \n",
    "       + floors\n",
    "       + (all other methods of parent class features)  \n",
    "  \n",
    "+ **Location**  \n",
    "    + class: location(child)\n",
    "        + city \n",
    "        + locality\n",
    "        + facing_direction\n",
    "        + (all methods imported from the parent class, which is in the features module) \n",
    "        \n",
    "+ **Condition**\n",
    "    + class: apartment_condition(child)\n",
    "        + maintenance_required\n",
    "        + discount\n",
    "        + furnishing_status\n",
    "        + (all methods imported from the parent class, which is in the features module) \n",
    "        \n",
    "**Sub-package 2: FamilyHome: predicts various properties for family homes..**\n",
    "+ **Attributes**\n",
    "    + class 1 (parent): characteristics\n",
    "       + house_price\n",
    "       + house_area\n",
    "       + house_display\n",
    "    + class 2 (child): quality   \n",
    "       + build_quality\n",
    "       + (all other methods of parent class features)  \n",
    "  \n",
    "+ **AreaType**  \n",
    "    + class: areaType (Child)\n",
    "        + nearby_amenities\n",
    "        + view\n",
    "        + population\n",
    "        + (all methods imported from the parent class, which is in the features module) \n",
    "        \n",
    "+ **highlights**\n",
    "    + class: highlights(child)\n",
    "        + garage_capacity\n",
    "        + swimming_pool_type\n",
    "        + furnish_type\n",
    "        + (all methods imported from the parent class, which is in the features module) \n",
    "       \n",
    "        \n",
    "\n"
   ]
  }
 ],
 "metadata": {
  "kernelspec": {
   "display_name": "Python 3 (ipykernel)",
   "language": "python",
   "name": "python3"
  },
  "language_info": {
   "codemirror_mode": {
    "name": "ipython",
    "version": 3
   },
   "file_extension": ".py",
   "mimetype": "text/x-python",
   "name": "python",
   "nbconvert_exporter": "python",
   "pygments_lexer": "ipython3",
   "version": "3.9.5"
  }
 },
 "nbformat": 4,
 "nbformat_minor": 5
}
